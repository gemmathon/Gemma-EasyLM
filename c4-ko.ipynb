{
 "cells": [
  {
   "cell_type": "code",
   "execution_count": 1,
   "metadata": {},
   "outputs": [
    {
     "data": {
      "application/vnd.jupyter.widget-view+json": {
       "model_id": "7bd17b758d2f4b119aea6cb4dc3e9a4e",
       "version_major": 2,
       "version_minor": 0
      },
      "text/plain": [
       "Resolving data files:   0%|          | 0/1024 [00:00<?, ?it/s]"
      ]
     },
     "metadata": {},
     "output_type": "display_data"
    },
    {
     "data": {
      "application/vnd.jupyter.widget-view+json": {
       "model_id": "696f39c3ee7948b1a48ef3a387a8008c",
       "version_major": 2,
       "version_minor": 0
      },
      "text/plain": [
       "Resolving data files:   0%|          | 0/1024 [00:00<?, ?it/s]"
      ]
     },
     "metadata": {},
     "output_type": "display_data"
    }
   ],
   "source": [
    "from datasets import load_dataset\n",
    "\n",
    "ko = load_dataset(\"allenai/c4\", \"ko\", streaming=True)"
   ]
  },
  {
   "cell_type": "code",
   "execution_count": 3,
   "metadata": {},
   "outputs": [
    {
     "data": {
      "text/plain": [
       "{'text': '움짤 - 19 이상만 | 다와누리\\n교복입고 섹시댄스추는 BJ 이거 수위 너무한거아니냐 ㅗㅜㅑ…레전드네\\n2020-04-07 by 이상만\\n무료로 급딸이 필요할떄? ▶▶▶http://www.사과티비.com◀◀◀ 동영상 출처\\nCategories 움짤 | 유머 Tags 움짤\\n다리째기하면서 느껴버린 여인!! ㅗㅜㅑ… 레전드네\\n2020-04-04 by 이상만\\n무료로 급딸이 필요할때? ▶▶▶ http://www.사과티비.com ◀◀◀ 2개,3개 동시 pc로 여러명 보면서 틀어놓고 딸치고 싶을때? 바나나티비→ http://www.aptv.kr 마카롱티비→ http://www.macarong.co.kr 팝콘업티비→ http://www.uplive.xyz 동영상 출처\\n엄마 앞에서 남사친이랑 선넘는 대화를 했다가..\\n2020-03-31 by 이상만\\n구독하기 : https://goo.gl/4JUQn2 스폰문의 : eunz1nara@gmail.com 무삭제 풀버전 채널 : https://goo.gl/NjeAzk – http://bit.ly/yangpang : 양팡 아프리카TV 개인방송국 – http://bit.ly/pangtube : 양팡 YouTube 채널 – http://bit.ly/pangstargram : 양팡 공식 인스타그램 – …\\nRead more엄마 앞에서 남사친이랑 선넘는 대화를 했다가..\\n고등학생이 가터벨트입고 유혹하네;; ㅗㅜㅑ 엄빠주의 후방주의 레전드네\\n아헤가오 표정모음..ㅗㅜㅑ.. 가버리는표정 지려주네 후방주의 레전드다\\nBJ 섹시 여캠 트월킹 노출 엉밑살 다보이네;; ㅗㅜㅑ 레전드다 코피펑펑 후방주의\\n2020-05-09 2020-03-30 by 이상만\\n무료로 급딸이 필요할떄? 동영상 출처\\nBJ손밍 섹시BJ 여캠 노출 수위 몸매 엉밑살 다보이네 ㅗㅜㅑ 레전드다..\\n2020-03-30 by 이상만\\n연예인 음란마귀 움짤들 ㅋㅋㅋㅋㅋ ㄹㅇ 상상력자극하네 ㅗㅜㅑ 레전드다..\\n토렌트 사이트 순위 – 7월 업데이트 2.9k views\\n19 이상만 추천 만화 | Best 성인 웹툰 순위 – 7월 Update 1.4k views\\n19 이상만 추천 신작 성인 웹툰 | 만화 순위 470 views\\n[ 다와누리 ] 동생의 의무 : 19 이상만 성인 웹툰 추천 312 views\\n[ 다와누리 ] 피트니스 : 19 이상만 성인 웹툰 추천 292 views\\n[ 다와누리 ] 욕망 : 19 이상만 성인 웹툰 추천 256 views\\n목요웹툰 | 가정부 : 19 이상만 성인 웹툰 추천 244 views\\n[ 다와누리 ] 은밀한 곳에 : 19 이상만 성인 웹툰 추천 224 views\\n[ 다와누리 ] 사돈 처녀들 : 19 이상만 성인 웹툰 추천 209 views\\n금요웹툰 | 당구장 사랑이 : 19 이상만 성인 웹툰 추천 188 views',\n",
       " 'timestamp': datetime.datetime(2020, 7, 13, 3, 51, 37),\n",
       " 'url': 'https://leesangman.com/tag/%EC%9B%80%EC%A7%A4/'}"
      ]
     },
     "execution_count": 3,
     "metadata": {},
     "output_type": "execute_result"
    }
   ],
   "source": [
    "next(iter(ko[\"train\"]))  # 첫데이터 이거 맞나...."
   ]
  },
  {
   "cell_type": "code",
   "execution_count": null,
   "metadata": {},
   "outputs": [],
   "source": [
    "# 15237줄씩 1024개의 파일이 있음  -> 15,637,248줄"
   ]
  }
 ],
 "metadata": {
  "kernelspec": {
   "display_name": "Python 3",
   "language": "python",
   "name": "python3"
  },
  "language_info": {
   "codemirror_mode": {
    "name": "ipython",
    "version": 3
   },
   "file_extension": ".py",
   "mimetype": "text/x-python",
   "name": "python",
   "nbconvert_exporter": "python",
   "pygments_lexer": "ipython3",
   "version": "3.11.6"
  }
 },
 "nbformat": 4,
 "nbformat_minor": 2
}
